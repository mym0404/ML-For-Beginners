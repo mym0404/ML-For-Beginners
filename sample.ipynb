{
 "cells": [
  {
   "cell_type": "code",
   "execution_count": null,
   "id": "ef1f45b6",
   "metadata": {},
   "outputs": [],
   "source": [
    "import numpy as np\n",
    "import pandas as pd\n",
    "import matplotlib.pyplot as plt\n",
    "from sklearn.linear_model import LinearRegression\n",
    "\n",
    "# 데이터프레임 생성\n",
    "df = pd.DataFrame({\n",
    "    'size': [30, 40, 50, 60, 70],\n",
    "    'price': [300, 400, 500, 550, 600]\n",
    "})\n",
    "\n",
    "# 모델 학습\n",
    "model = LinearRegression().fit(df[['size']], df['price'])\n",
    "\n",
    "# 예측\n",
    "size_new = 65\n",
    "price_pred = model.predict([[size_new]])[0]\n",
    "\n",
    "print(f'{size_new}평 예상 가격: {price_pred:.0f}만원')\n",
    "\n",
    "# 시각화\n",
    "ax = df.plot.scatter(x='size', y='price')\n",
    "df['pred'] = model.predict(df[['size']])\n",
    "df.plot(x='size', y='pred', ax=ax, color='red')\n",
    "plt.scatter(size_new, price_pred, color='green')\n",
    "plt.show()"
   ]
  }
 ],
 "metadata": {
  "kernelspec": {
   "display_name": ".venv",
   "language": "python",
   "name": "python3"
  },
  "language_info": {
   "codemirror_mode": {
    "name": "ipython",
    "version": 3
   },
   "file_extension": ".py",
   "mimetype": "text/x-python",
   "name": "python",
   "nbconvert_exporter": "python",
   "pygments_lexer": "ipython3",
   "version": "3.12.4"
  }
 },
 "nbformat": 4,
 "nbformat_minor": 5
}
